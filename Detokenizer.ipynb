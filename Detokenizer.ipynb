{
 "cells": [
  {
   "cell_type": "code",
   "execution_count": 16,
   "metadata": {},
   "outputs": [],
   "source": [
    "import csv\n",
    "\n",
    "tokens = \"corrected_tokens.csv\"\n",
    "f = open(\"corrected_Text.txt\", \"w\")\n",
    "\n",
    "firstRow = True;\n",
    "with open(tokens, 'r') as csvfile:\n",
    "    csvReader = csv.reader(csvfile)\n",
    "    for row in csvReader:\n",
    "        if(firstRow == False):\n",
    "            for col in row:\n",
    "                f.write(col);\n",
    "        else:\n",
    "            firstRow = False;\n",
    "            \n",
    "f.close()"
   ]
  },
  {
   "cell_type": "code",
   "execution_count": null,
   "metadata": {},
   "outputs": [],
   "source": []
  }
 ],
 "metadata": {
  "kernelspec": {
   "display_name": "Python 3",
   "language": "python",
   "name": "python3"
  },
  "language_info": {
   "codemirror_mode": {
    "name": "ipython",
    "version": 3
   },
   "file_extension": ".py",
   "mimetype": "text/x-python",
   "name": "python",
   "nbconvert_exporter": "python",
   "pygments_lexer": "ipython3",
   "version": "3.8.3"
  }
 },
 "nbformat": 4,
 "nbformat_minor": 4
}
