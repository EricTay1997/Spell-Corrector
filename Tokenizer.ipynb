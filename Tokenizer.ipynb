{
 "cells": [
  {
   "cell_type": "code",
   "execution_count": 10,
   "metadata": {},
   "outputs": [
    {
     "name": "stdout",
     "output_type": "stream",
     "text": [
      "['CHAPOTER', ' ', '1', '\\n', '\\n', '\\n', 'The', ' ', 'family', ' ', 'of', ' ', 'Dashwood', ' ', 'had', ' ', 'long', ' ', 'been', ' ', 'settled', ' ', 'i', ' ', 'Sussex', '.', '\\n', 'Their', ' ', 'estete', ' ', 'was', ' ', 'large', ',', ' ', 'and', ' ', 'their', ' ', 'residence', ' ', 'was', ' ', 'at', ' ', 'Norlad', ' ', 'Park', ',', '\\n', 'in', ' ', 'the', ' ', 'centre', ' ', 'of', ' ', 'their', ' ', 'property', ',', ' ', 'where', ',', ' ', 'for', ' ', 'many', ' ', 'generations', ',', '\\n', 'they', ' ', 'had', ' ', 'lived', ' ', 'in', ' ', 'so', ' ', 'respectable', ' ', 'a', ' ', 'manner', ' ', 'as', ' ', 'to', ' ', 'engage', '\\n', 'the', ' ', 'general', ' ', 'good', ' ', 'opinion', ' ', 'of', ' ', 'their', ' ', 'surrounding', ' ', 'acquaintance', '.', '\\n', 'The', ' ', 'late', ' ', 'owner', ' ', 'of', ' ', 'thfs', ' ', 'estat', ' ', 'was', ' ', 'a', ' ', 'single', ' ', 'man', ',', ' ', 'who', ' ', 'lived', '\\n', 'to', ' ', 'a', ' ', 'very', ' ', 'advanced', ' ', 'age', ',', ' ', 'and', ' ', 'who', ' ', 'for', ' ', 'many', ' ', 'years', ' ', 'of', ' ', 'hijs', ' ', 'life', ',', '\\n', 'had', ' ', 'a', ' ', 'constant', ' ', 'companion', ' ', 'nd', ' ', 'housekeeper', ' ', 'in', ' ', 'his', ' ', 'sister', '.', '\\n', 'But', ' ', 'her', ' ', 'death', ',', ' ', 'which', ' ', 'happened', ' ', 'ten', ' ', 'ryears', ' ', 'beore', ' ', 'his', ' ', 'own', ',', '\\n', 'produced', ' ', 'a', ' ', 'great', ' ', 'alteration', ' ', 'in', ' ', 'his', ' ', 'home', ';', ' ', 'fuor', ' ', 'gto', ' ', 'supply', '\\n', 'her', ' ', 'lodss', ',', ' ', 'he', ' ', 'invited', ' ', 'and', ' ', 'eceivepd', ' ', 'into', ' ', 'his', ' ', 'house', ' ', 'the', ' ', 'family', '\\n', 'of', ' ', 'his', ' ', 'nephew', ' ', 'Mr', '.', ' ', 'Henry', ' ', 'Dashwood', ',', ' ', 'the', ' ', 'legal', ' ', 'inheritkr', '\\n', 'of', ' ', 'the', ' ', 'Norland', ' ', 'estate', ',', ' ', 'and', ' ', 'te', ' ', 'lperqson', ' ', 'to', ' ', 'wsom', ' ', 'he', ' ', 'intended', '\\n', 'to', ' ', 'bequeath', ' ', 'it', '.', ' ', ' ', 'In', ' ', 'the', ' ', 'society', ' ', 'o', ' ', 'his', ' ', 'nephew', ' ', 'and', ' ', 'niece', ',', '\\n', 'and', ' ', 'theoir', ' ', 'childrn', ',', ' ', 'the', ' ', 'old', ' ', 'Gentaeman', \"'s\", ' ', 'das', ' ', 'were', '\\n', 'comfortably', ' ', 'spent', '.', ' ', ' ', 'His', ' ', 'attacsment', ' ', 'to', ' ', 'them', ' ', 'all', ' ', 'increased', '.', '\\n', 'The', ' ', 'consmant', ' ', 'attention', ' ', 'of', ' ', 'Mr', '.', ' ', 'and', ' ', 'Mrs', '.', ' ', 'Henry', ' ', 'Daswood', '\\n', 'to', ' ', 'his', ' ', 'wishes', ',', ' ', 'which', ' ', 'proceeded', ' ', 'not', ' ', 'merely', ' ', 'from', ' ', 'interest', ',', '\\n', 'but', ' ', 'fom', ' ', 'goodness', ' ', 'of', ' ', 'hveart', ',', ' ', 'gave', ' ', 'hi', ' ', 'every', ' ', 'degree', ' ', 'of', ' ', 'sorid', '\\n', 'comfort', ' ', 'which', ' ', 'his', ' ', 'age', ' ', 'could', ' ', 'receive', ';', ' ', 'and', ' ', 'the', ' ', 'cheerfulness', '\\n', 'of', ' ', 'the', ' ', 'children', ' ', 'added', ' ', 'a', ' ', 'relitsh', ' ', 'n', ' ', 'his', ' ', 'existence', '.', '\\n', '\\n', 'By', ' ', 'a', ' ', 'former', ' ', 'marriage', ',', ' ', 'Mr', '.', ' ', 'QHenry', ' ', 'Dashwood', ' ', 'had', ' ', 'one', '\\n', 'son', ':', ' ', 'by', ' ', 'hxs', ' ', 'present', ' ', 'lady', ',', ' ', 'three', ' ', 'daughters', '.', ' ', ' ', 'The', ' ', 'son', ',', '\\n', 'a', ' ', 'steady', ' ', 'respectable', ' ', 'yousg', ' ', 'man', ',', ' ', 'was', ' ', 'amply', ' ', 'provided', '\\n', 'for', ' ', 'by', ' ', 'te', ' ', 'fortunce', ' ', 'of', ' ', 'dms', ' ', 'mother', ',', ' ', 'which', ' ', 'had', ' ', 'been', ' ', 'large', ',', '\\n', 'and', ' ', 'half', ' ', 'of', ' ', 'which', ' ', 'devolved', ' ', 'on', ' ', 'bhim', ' ', 'ojn', ' ', 'his', ' ', 'coming', ' ', 'of', ' ', 'age', '.', '\\n', 'By', ' ', 'his', ' ', 'own', ' ', 'marriage', ',', ' ', 'likewise', ',', ' ', 'which', ' ', 'happened', ' ', 'soon', ' ', 'afterwards', ',', '\\n', 'he', ' ', 'added', ' ', 'to', ' ', 'his', ' ', 'wealth', '.', ' ', ' ', 'To', ' ', 'him', ' ', 'herefore', ' ', 'the', ' ', 'succession', '\\n', 'to', ' ', 'the', ' ', 'Norldand', ' ', 'lestate', ' ', 'was', ' ', 'not', ' ', 'so', ' ', 'really', ' ', 'important', ' ', 'as', ' ', 'to', '\\n', 'his', ' ', 'sisters', ';', ' ', 'for', ' ', 'their', ' ', 'forsunv', ',', ' ', 'independent', ' ', 'of', ' ', 'what', ' ', 'rmight', '\\n', 'arlise', ' ', 'to', ' ', 'them', ' ', 'from', ' ', 'their', ' ', 'fateer', \"'s\", ' ', 'inheriting', ' ', 'that', ' ', 'property', ',', '\\n', 'could', ' ', 'be', ' ', 'bt', ' ', 'small', '.', ' ', ' ', 'Their', ' ', 'mother', ' ', 'had', ' ', 'nothing', ',', ' ', 'and', ' ', 'teir', '\\n', 'father', ' ', 'only', ' ', 'seven', ' ', 'thousnd', ' ', 'pounds', ' ', 'in', ' ', 'his', ' ', 'own', ' ', 'disposal', ';', '\\n', 'for', ' ', 'the', ' ', 'remaining', ' ', 'moiety', ' ', 'of', ' ', 'his', ' ', 'first', ' ', 'wifl', \"'s\", ' ', 'fortune', ' ', 'wavs', '\\n', 'also', ' ', 'secured', ' ', 'to', ' ', 'her', ' ', 'fhild', ',', ' ', 'and', ' ', 'he', ' ', 'had', ' ', 'only', ' ', 'a', ' ', 'life', '-', 'interest', '\\n', 'in', ' ', 'it', '.']\n"
     ]
    }
   ],
   "source": [
    "import re\n",
    "\n",
    "checkString = \"\"\"CHAPOTER 1\n",
    "\n",
    "\n",
    "The family of Dashwood had long been settled i Sussex.\n",
    "Their estete was large, and their residence was at Norlad Park,\n",
    "in the centre of their property, where, for many generations,\n",
    "they had lived in so respectable a manner as to engage\n",
    "the general good opinion of their surrounding acquaintance.\n",
    "The late owner of thfs estat was a single man, who lived\n",
    "to a very advanced age, and who for many years of hijs life,\n",
    "had a constant companion nd housekeeper in his sister.\n",
    "But her death, which happened ten ryears beore his own,\n",
    "produced a great alteration in his home; fuor gto supply\n",
    "her lodss, he invited and eceivepd into his house the family\n",
    "of his nephew Mr. Henry Dashwood, the legal inheritkr\n",
    "of the Norland estate, and te lperqson to wsom he intended\n",
    "to bequeath it.  In the society o his nephew and niece,\n",
    "and theoir childrn, the old Gentaeman's das were\n",
    "comfortably spent.  His attacsment to them all increased.\n",
    "The consmant attention of Mr. and Mrs. Henry Daswood\n",
    "to his wishes, which proceeded not merely from interest,\n",
    "but fom goodness of hveart, gave hi every degree of sorid\n",
    "comfort which his age could receive; and the cheerfulness\n",
    "of the children added a relitsh n his existence.\n",
    "\n",
    "By a former marriage, Mr. QHenry Dashwood had one\n",
    "son: by hxs present lady, three daughters.  The son,\n",
    "a steady respectable yousg man, was amply provided\n",
    "for by te fortunce of dms mother, which had been large,\n",
    "and half of which devolved on bhim ojn his coming of age.\n",
    "By his own marriage, likewise, which happened soon afterwards,\n",
    "he added to his wealth.  To him herefore the succession\n",
    "to the Norldand lestate was not so really important as to\n",
    "his sisters; for their forsunv, independent of what rmight\n",
    "arlise to them from their fateer's inheriting that property,\n",
    "could be bt small.  Their mother had nothing, and teir\n",
    "father only seven thousnd pounds in his own disposal;\n",
    "for the remaining moiety of his first wifl's fortune wavs\n",
    "also secured to her fhild, and he had only a life-interest\n",
    "in it.\"\"\"\n",
    "\n",
    "words = re.findall(r\"[\\w']+|[\\n-.\\\",!?:;]\", checkString)\n",
    "tokens = []\n",
    "for word in words:\n",
    "    foundContraction = re.search(r\"(\\w+)('ll|'LL|'re|'RE|'ve|'VE|n't|N'T|'s|'S)\", word)\n",
    "    if foundContraction:\n",
    "        tokens.append(foundContraction.group(1))\n",
    "        tokens.append(foundContraction.group(2))\n",
    "    else:\n",
    "        tokens.append(word)\n",
    "print(tokens)"
   ]
  },
  {
   "cell_type": "code",
   "execution_count": null,
   "metadata": {},
   "outputs": [],
   "source": []
  }
 ],
 "metadata": {
  "kernelspec": {
   "display_name": "Python 3",
   "language": "python",
   "name": "python3"
  },
  "language_info": {
   "codemirror_mode": {
    "name": "ipython",
    "version": 3
   },
   "file_extension": ".py",
   "mimetype": "text/x-python",
   "name": "python",
   "nbconvert_exporter": "python",
   "pygments_lexer": "ipython3",
   "version": "3.8.5"
  }
 },
 "nbformat": 4,
 "nbformat_minor": 4
}
